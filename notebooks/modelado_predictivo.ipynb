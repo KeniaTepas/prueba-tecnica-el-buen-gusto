{
 "cells": [
  {
   "cell_type": "markdown",
   "id": "f62cb708",
   "metadata": {},
   "source": [
    "Modelado Predictivo - Ventas Licorera \"El Buen Gusto\"\n",
    "\n",
    "Estructura del Modelado:\n",
    "1. **Preparación de datos**\n",
    "   - Limpieza y tratamiento de valores faltantes\n",
    "   - Creación de variables derivadas (features engineering)\n",
    "-  - División en conjuntos de entrenamiento y prueba\n",
    "\n",
    "2. **Desarrollo de modelos**\n",
    "   - Implementar al menos 3 enfoques diferentes:\n",
    "     - Modelo de series temporales (ARIMA, Prophet, etc.)\n",
    "     - Modelo de machine learning (Random Forest, XGBoost, etc.)\n",
    "     - Modelo de regresión múltiple\n",
    "   - Validación cruzada temporal apropiada\n",
    "\n",
    "3. **Evaluación y selección**\n",
    "   - Métricas de evaluación: MAE, RMSE, MAPE\n",
    "   - Comparación de modelos\n",
    "   - Análisis de residuales\n"
   ]
  },
  {
   "cell_type": "markdown",
   "id": "44e421f0",
   "metadata": {},
   "source": [
    "1. Configuración Inicial"
   ]
  },
  {
   "cell_type": "code",
   "execution_count": null,
   "id": "5947b302",
   "metadata": {},
   "outputs": [],
   "source": [
    "# Importación de librerías\n",
    "import pandas as pd\n",
    "import numpy as np\n",
    "import matplotlib.pyplot as plt\n",
    "import seaborn as sns\n",
    "import plotly.express as px\n",
    "from datetime import datetime\n",
    "from sklearn.preprocessing import StandardScaler, OneHotEncoder, FunctionTransformer\n",
    "from sklearn.compose import ColumnTransformer, make_column_selector\n",
    "from sklearn.pipeline import Pipeline, FeatureUnion\n",
    "from sklearn.model_selection import TimeSeriesSplit, cross_val_score\n",
    "from sklearn.linear_model import LinearRegression, Ridge\n",
    "from sklearn.ensemble import RandomForestRegressor, GradientBoostingRegressor\n",
    "from xgboost import XGBRegressor\n",
    "from lightgbm import LGBMRegressor\n",
    "from statsmodels.tsa.arima.model import ARIMA\n",
    "from statsmodels.tsa.statespace.sarimax import SARIMAX\n",
    "from prophet import Prophet\n",
    "from sklearn.metrics import (mean_absolute_error, \n",
    "                            mean_squared_error, \n",
    "                            mean_absolute_percentage_error,\n",
    "                            r2_score)\n",
    "from sklearn.model_selection import RandomizedSearchCV\n",
    "import joblib\n",
    "import warnings\n",
    "warnings.filterwarnings('ignore')"
   ]
  }
 ],
 "metadata": {
  "kernelspec": {
   "display_name": "Python 3",
   "language": "python",
   "name": "python3"
  },
  "language_info": {
   "name": "python",
   "version": "3.13.4"
  }
 },
 "nbformat": 4,
 "nbformat_minor": 5
}
